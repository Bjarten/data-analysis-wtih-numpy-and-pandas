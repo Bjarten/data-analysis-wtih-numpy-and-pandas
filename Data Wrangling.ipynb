{
 "cells": [
  {
   "cell_type": "markdown",
   "metadata": {},
   "source": [
    "# Data Wrangling\n",
    "[Data wrangeling](https://en.wikipedia.org/wiki/Data_wrangling) is the process of transforming and mapping data from a \"raw\" format into a format more valuable for further downstream pruposes such as analytics. Read more about data. \n",
    "\n",
    "Data wrangling can be divided into teo steps\n",
    "\n",
    "1. Data acquisition\n",
    "2. Data cleaning\n"
   ]
  },
  {
   "cell_type": "markdown",
   "metadata": {},
   "source": [
    "## Data acquisition"
   ]
  },
  {
   "cell_type": "markdown",
   "metadata": {},
   "source": [
    "Some ways too aquire data can be\n",
    "    \n",
    "* Downloading files\n",
    "* Accessing an API\n",
    "* Scraping a web page\n",
    "* Combine data from different formats\n",
    "\n",
    "### Comma Separated Values (CSV)\n",
    " "
   ]
  },
  {
   "cell_type": "code",
   "execution_count": null,
   "metadata": {},
   "outputs": [],
   "source": []
  },
  {
   "cell_type": "code",
   "execution_count": null,
   "metadata": {},
   "outputs": [],
   "source": []
  }
 ],
 "metadata": {
  "kernelspec": {
   "display_name": "Python [conda env:np]",
   "language": "python",
   "name": "conda-env-np-py"
  },
  "language_info": {
   "codemirror_mode": {
    "name": "ipython",
    "version": 3
   },
   "file_extension": ".py",
   "mimetype": "text/x-python",
   "name": "python",
   "nbconvert_exporter": "python",
   "pygments_lexer": "ipython3",
   "version": "3.7.0"
  }
 },
 "nbformat": 4,
 "nbformat_minor": 2
}
